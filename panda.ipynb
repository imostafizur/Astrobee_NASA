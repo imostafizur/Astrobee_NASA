{
  "nbformat": 4,
  "nbformat_minor": 0,
  "metadata": {
    "colab": {
      "provenance": [],
      "authorship_tag": "ABX9TyPsi8DVOdiWod7uYCogph7b",
      "include_colab_link": true
    },
    "kernelspec": {
      "name": "python3",
      "display_name": "Python 3"
    },
    "language_info": {
      "name": "python"
    }
  },
  "cells": [
    {
      "cell_type": "markdown",
      "metadata": {
        "id": "view-in-github",
        "colab_type": "text"
      },
      "source": [
        "<a href=\"https://colab.research.google.com/github/imostafizur/Astrobee_NASA/blob/master/panda.ipynb\" target=\"_parent\"><img src=\"https://colab.research.google.com/assets/colab-badge.svg\" alt=\"Open In Colab\"/></a>"
      ]
    },
    {
      "cell_type": "code",
      "source": [
        "import os\n",
        "\n",
        "os.environ['KAGGLE_USERNAME'] = \"imostafizur\" # username from the json file\n",
        "os.environ['KAGGLE_KEY'] = \"209f4b70995998e465b2702534f7a5ff\" # key from the json file"
      ],
      "metadata": {
        "id": "p9DpH3vWObyG"
      },
      "execution_count": 1,
      "outputs": []
    },
    {
      "cell_type": "code",
      "source": [
        "!kaggle datasets download teamincribo/cyber-security-attacks"
      ],
      "metadata": {
        "colab": {
          "base_uri": "https://localhost:8080/"
        },
        "id": "6w7b1U5uOqKm",
        "outputId": "6ad94b07-3d32-45ca-d192-c234fb71beba"
      },
      "execution_count": 2,
      "outputs": [
        {
          "output_type": "stream",
          "name": "stdout",
          "text": [
            "Dataset URL: https://www.kaggle.com/datasets/teamincribo/cyber-security-attacks\n",
            "License(s): apache-2.0\n"
          ]
        }
      ]
    },
    {
      "cell_type": "code",
      "source": [
        "!unzip cyber-security-attacks.zip"
      ],
      "metadata": {
        "colab": {
          "base_uri": "https://localhost:8080/"
        },
        "id": "HTvaBee6Owta",
        "outputId": "4ce73748-f706-4514-c782-ecd2b451520f"
      },
      "execution_count": 3,
      "outputs": [
        {
          "output_type": "stream",
          "name": "stdout",
          "text": [
            "Archive:  cyber-security-attacks.zip\n",
            "  inflating: README.md               \n",
            "  inflating: cybersecurity_attacks.csv  \n"
          ]
        }
      ]
    },
    {
      "cell_type": "code",
      "execution_count": 4,
      "metadata": {
        "colab": {
          "base_uri": "https://localhost:8080/"
        },
        "id": "sbQmzVrdccdZ",
        "outputId": "3450f605-123a-40d6-ae1f-c80e718f712a"
      },
      "outputs": [
        {
          "output_type": "stream",
          "name": "stdout",
          "text": [
            "cybersecurity_attacks.csv  cyber-security-attacks.zip  README.md  sample_data\n"
          ]
        }
      ],
      "source": [
        "!ls"
      ]
    },
    {
      "cell_type": "code",
      "source": [
        "import pandas as pd\n",
        "\n",
        "df = pd.read_csv(\"cybersecurity_attacks.csv\")\n",
        "df.head()  # Show the first few rows"
      ],
      "metadata": {
        "colab": {
          "base_uri": "https://localhost:8080/",
          "height": 689
        },
        "id": "6P9PygTxc5La",
        "outputId": "bc7a3248-8523-48aa-b13f-4b0d214a02a2"
      },
      "execution_count": 5,
      "outputs": [
        {
          "output_type": "execute_result",
          "data": {
            "text/plain": [
              "             Timestamp Source IP Address Destination IP Address  Source Port  \\\n",
              "0  2023-05-30 06:33:58     103.216.15.12           84.9.164.252        31225   \n",
              "1  2020-08-26 07:08:30    78.199.217.198         66.191.137.154        17245   \n",
              "2  2022-11-13 08:23:25      63.79.210.48          198.219.82.17        16811   \n",
              "3  2023-07-02 10:38:46     163.42.196.10        101.228.192.255        20018   \n",
              "4  2023-07-16 13:11:07     71.166.185.76        189.243.174.238         6131   \n",
              "\n",
              "   Destination Port Protocol  Packet Length Packet Type Traffic Type  \\\n",
              "0             17616     ICMP            503        Data         HTTP   \n",
              "1             48166     ICMP           1174        Data         HTTP   \n",
              "2             53600      UDP            306     Control         HTTP   \n",
              "3             32534      UDP            385        Data         HTTP   \n",
              "4             26646      TCP           1462        Data          DNS   \n",
              "\n",
              "                                        Payload Data  ... Action Taken  \\\n",
              "0  Qui natus odio asperiores nam. Optio nobis ius...  ...       Logged   \n",
              "1  Aperiam quos modi officiis veritatis rem. Omni...  ...      Blocked   \n",
              "2  Perferendis sapiente vitae soluta. Hic delectu...  ...      Ignored   \n",
              "3  Totam maxime beatae expedita explicabo porro l...  ...      Blocked   \n",
              "4  Odit nesciunt dolorem nisi iste iusto. Animi v...  ...      Blocked   \n",
              "\n",
              "   Severity Level User Information  \\\n",
              "0             Low    Reyansh Dugal   \n",
              "1             Low       Sumer Rana   \n",
              "2             Low     Himmat Karpe   \n",
              "3          Medium       Fateh Kibe   \n",
              "4             Low     Dhanush Chad   \n",
              "\n",
              "                                  Device Information Network Segment  \\\n",
              "0  Mozilla/5.0 (compatible; MSIE 8.0; Windows NT ...       Segment A   \n",
              "1  Mozilla/5.0 (compatible; MSIE 8.0; Windows NT ...       Segment B   \n",
              "2  Mozilla/5.0 (compatible; MSIE 9.0; Windows NT ...       Segment C   \n",
              "3  Mozilla/5.0 (Macintosh; PPC Mac OS X 10_11_5; ...       Segment B   \n",
              "4  Mozilla/5.0 (compatible; MSIE 5.0; Windows NT ...       Segment C   \n",
              "\n",
              "    Geo-location Data Proxy Information Firewall Logs IDS/IPS Alerts  \\\n",
              "0  Jamshedpur, Sikkim      150.9.97.135      Log Data            NaN   \n",
              "1  Bilaspur, Nagaland               NaN      Log Data            NaN   \n",
              "2   Bokaro, Rajasthan    114.133.48.179      Log Data     Alert Data   \n",
              "3  Jaunpur, Rajasthan               NaN           NaN     Alert Data   \n",
              "4  Anantapur, Tripura     149.6.110.119           NaN     Alert Data   \n",
              "\n",
              "  Log Source  \n",
              "0     Server  \n",
              "1   Firewall  \n",
              "2   Firewall  \n",
              "3   Firewall  \n",
              "4   Firewall  \n",
              "\n",
              "[5 rows x 25 columns]"
            ],
            "text/html": [
              "\n",
              "  <div id=\"df-add0f6c4-f4bd-4851-b179-f376e366b542\" class=\"colab-df-container\">\n",
              "    <div>\n",
              "<style scoped>\n",
              "    .dataframe tbody tr th:only-of-type {\n",
              "        vertical-align: middle;\n",
              "    }\n",
              "\n",
              "    .dataframe tbody tr th {\n",
              "        vertical-align: top;\n",
              "    }\n",
              "\n",
              "    .dataframe thead th {\n",
              "        text-align: right;\n",
              "    }\n",
              "</style>\n",
              "<table border=\"1\" class=\"dataframe\">\n",
              "  <thead>\n",
              "    <tr style=\"text-align: right;\">\n",
              "      <th></th>\n",
              "      <th>Timestamp</th>\n",
              "      <th>Source IP Address</th>\n",
              "      <th>Destination IP Address</th>\n",
              "      <th>Source Port</th>\n",
              "      <th>Destination Port</th>\n",
              "      <th>Protocol</th>\n",
              "      <th>Packet Length</th>\n",
              "      <th>Packet Type</th>\n",
              "      <th>Traffic Type</th>\n",
              "      <th>Payload Data</th>\n",
              "      <th>...</th>\n",
              "      <th>Action Taken</th>\n",
              "      <th>Severity Level</th>\n",
              "      <th>User Information</th>\n",
              "      <th>Device Information</th>\n",
              "      <th>Network Segment</th>\n",
              "      <th>Geo-location Data</th>\n",
              "      <th>Proxy Information</th>\n",
              "      <th>Firewall Logs</th>\n",
              "      <th>IDS/IPS Alerts</th>\n",
              "      <th>Log Source</th>\n",
              "    </tr>\n",
              "  </thead>\n",
              "  <tbody>\n",
              "    <tr>\n",
              "      <th>0</th>\n",
              "      <td>2023-05-30 06:33:58</td>\n",
              "      <td>103.216.15.12</td>\n",
              "      <td>84.9.164.252</td>\n",
              "      <td>31225</td>\n",
              "      <td>17616</td>\n",
              "      <td>ICMP</td>\n",
              "      <td>503</td>\n",
              "      <td>Data</td>\n",
              "      <td>HTTP</td>\n",
              "      <td>Qui natus odio asperiores nam. Optio nobis ius...</td>\n",
              "      <td>...</td>\n",
              "      <td>Logged</td>\n",
              "      <td>Low</td>\n",
              "      <td>Reyansh Dugal</td>\n",
              "      <td>Mozilla/5.0 (compatible; MSIE 8.0; Windows NT ...</td>\n",
              "      <td>Segment A</td>\n",
              "      <td>Jamshedpur, Sikkim</td>\n",
              "      <td>150.9.97.135</td>\n",
              "      <td>Log Data</td>\n",
              "      <td>NaN</td>\n",
              "      <td>Server</td>\n",
              "    </tr>\n",
              "    <tr>\n",
              "      <th>1</th>\n",
              "      <td>2020-08-26 07:08:30</td>\n",
              "      <td>78.199.217.198</td>\n",
              "      <td>66.191.137.154</td>\n",
              "      <td>17245</td>\n",
              "      <td>48166</td>\n",
              "      <td>ICMP</td>\n",
              "      <td>1174</td>\n",
              "      <td>Data</td>\n",
              "      <td>HTTP</td>\n",
              "      <td>Aperiam quos modi officiis veritatis rem. Omni...</td>\n",
              "      <td>...</td>\n",
              "      <td>Blocked</td>\n",
              "      <td>Low</td>\n",
              "      <td>Sumer Rana</td>\n",
              "      <td>Mozilla/5.0 (compatible; MSIE 8.0; Windows NT ...</td>\n",
              "      <td>Segment B</td>\n",
              "      <td>Bilaspur, Nagaland</td>\n",
              "      <td>NaN</td>\n",
              "      <td>Log Data</td>\n",
              "      <td>NaN</td>\n",
              "      <td>Firewall</td>\n",
              "    </tr>\n",
              "    <tr>\n",
              "      <th>2</th>\n",
              "      <td>2022-11-13 08:23:25</td>\n",
              "      <td>63.79.210.48</td>\n",
              "      <td>198.219.82.17</td>\n",
              "      <td>16811</td>\n",
              "      <td>53600</td>\n",
              "      <td>UDP</td>\n",
              "      <td>306</td>\n",
              "      <td>Control</td>\n",
              "      <td>HTTP</td>\n",
              "      <td>Perferendis sapiente vitae soluta. Hic delectu...</td>\n",
              "      <td>...</td>\n",
              "      <td>Ignored</td>\n",
              "      <td>Low</td>\n",
              "      <td>Himmat Karpe</td>\n",
              "      <td>Mozilla/5.0 (compatible; MSIE 9.0; Windows NT ...</td>\n",
              "      <td>Segment C</td>\n",
              "      <td>Bokaro, Rajasthan</td>\n",
              "      <td>114.133.48.179</td>\n",
              "      <td>Log Data</td>\n",
              "      <td>Alert Data</td>\n",
              "      <td>Firewall</td>\n",
              "    </tr>\n",
              "    <tr>\n",
              "      <th>3</th>\n",
              "      <td>2023-07-02 10:38:46</td>\n",
              "      <td>163.42.196.10</td>\n",
              "      <td>101.228.192.255</td>\n",
              "      <td>20018</td>\n",
              "      <td>32534</td>\n",
              "      <td>UDP</td>\n",
              "      <td>385</td>\n",
              "      <td>Data</td>\n",
              "      <td>HTTP</td>\n",
              "      <td>Totam maxime beatae expedita explicabo porro l...</td>\n",
              "      <td>...</td>\n",
              "      <td>Blocked</td>\n",
              "      <td>Medium</td>\n",
              "      <td>Fateh Kibe</td>\n",
              "      <td>Mozilla/5.0 (Macintosh; PPC Mac OS X 10_11_5; ...</td>\n",
              "      <td>Segment B</td>\n",
              "      <td>Jaunpur, Rajasthan</td>\n",
              "      <td>NaN</td>\n",
              "      <td>NaN</td>\n",
              "      <td>Alert Data</td>\n",
              "      <td>Firewall</td>\n",
              "    </tr>\n",
              "    <tr>\n",
              "      <th>4</th>\n",
              "      <td>2023-07-16 13:11:07</td>\n",
              "      <td>71.166.185.76</td>\n",
              "      <td>189.243.174.238</td>\n",
              "      <td>6131</td>\n",
              "      <td>26646</td>\n",
              "      <td>TCP</td>\n",
              "      <td>1462</td>\n",
              "      <td>Data</td>\n",
              "      <td>DNS</td>\n",
              "      <td>Odit nesciunt dolorem nisi iste iusto. Animi v...</td>\n",
              "      <td>...</td>\n",
              "      <td>Blocked</td>\n",
              "      <td>Low</td>\n",
              "      <td>Dhanush Chad</td>\n",
              "      <td>Mozilla/5.0 (compatible; MSIE 5.0; Windows NT ...</td>\n",
              "      <td>Segment C</td>\n",
              "      <td>Anantapur, Tripura</td>\n",
              "      <td>149.6.110.119</td>\n",
              "      <td>NaN</td>\n",
              "      <td>Alert Data</td>\n",
              "      <td>Firewall</td>\n",
              "    </tr>\n",
              "  </tbody>\n",
              "</table>\n",
              "<p>5 rows × 25 columns</p>\n",
              "</div>\n",
              "    <div class=\"colab-df-buttons\">\n",
              "\n",
              "  <div class=\"colab-df-container\">\n",
              "    <button class=\"colab-df-convert\" onclick=\"convertToInteractive('df-add0f6c4-f4bd-4851-b179-f376e366b542')\"\n",
              "            title=\"Convert this dataframe to an interactive table.\"\n",
              "            style=\"display:none;\">\n",
              "\n",
              "  <svg xmlns=\"http://www.w3.org/2000/svg\" height=\"24px\" viewBox=\"0 -960 960 960\">\n",
              "    <path d=\"M120-120v-720h720v720H120Zm60-500h600v-160H180v160Zm220 220h160v-160H400v160Zm0 220h160v-160H400v160ZM180-400h160v-160H180v160Zm440 0h160v-160H620v160ZM180-180h160v-160H180v160Zm440 0h160v-160H620v160Z\"/>\n",
              "  </svg>\n",
              "    </button>\n",
              "\n",
              "  <style>\n",
              "    .colab-df-container {\n",
              "      display:flex;\n",
              "      gap: 12px;\n",
              "    }\n",
              "\n",
              "    .colab-df-convert {\n",
              "      background-color: #E8F0FE;\n",
              "      border: none;\n",
              "      border-radius: 50%;\n",
              "      cursor: pointer;\n",
              "      display: none;\n",
              "      fill: #1967D2;\n",
              "      height: 32px;\n",
              "      padding: 0 0 0 0;\n",
              "      width: 32px;\n",
              "    }\n",
              "\n",
              "    .colab-df-convert:hover {\n",
              "      background-color: #E2EBFA;\n",
              "      box-shadow: 0px 1px 2px rgba(60, 64, 67, 0.3), 0px 1px 3px 1px rgba(60, 64, 67, 0.15);\n",
              "      fill: #174EA6;\n",
              "    }\n",
              "\n",
              "    .colab-df-buttons div {\n",
              "      margin-bottom: 4px;\n",
              "    }\n",
              "\n",
              "    [theme=dark] .colab-df-convert {\n",
              "      background-color: #3B4455;\n",
              "      fill: #D2E3FC;\n",
              "    }\n",
              "\n",
              "    [theme=dark] .colab-df-convert:hover {\n",
              "      background-color: #434B5C;\n",
              "      box-shadow: 0px 1px 3px 1px rgba(0, 0, 0, 0.15);\n",
              "      filter: drop-shadow(0px 1px 2px rgba(0, 0, 0, 0.3));\n",
              "      fill: #FFFFFF;\n",
              "    }\n",
              "  </style>\n",
              "\n",
              "    <script>\n",
              "      const buttonEl =\n",
              "        document.querySelector('#df-add0f6c4-f4bd-4851-b179-f376e366b542 button.colab-df-convert');\n",
              "      buttonEl.style.display =\n",
              "        google.colab.kernel.accessAllowed ? 'block' : 'none';\n",
              "\n",
              "      async function convertToInteractive(key) {\n",
              "        const element = document.querySelector('#df-add0f6c4-f4bd-4851-b179-f376e366b542');\n",
              "        const dataTable =\n",
              "          await google.colab.kernel.invokeFunction('convertToInteractive',\n",
              "                                                    [key], {});\n",
              "        if (!dataTable) return;\n",
              "\n",
              "        const docLinkHtml = 'Like what you see? Visit the ' +\n",
              "          '<a target=\"_blank\" href=https://colab.research.google.com/notebooks/data_table.ipynb>data table notebook</a>'\n",
              "          + ' to learn more about interactive tables.';\n",
              "        element.innerHTML = '';\n",
              "        dataTable['output_type'] = 'display_data';\n",
              "        await google.colab.output.renderOutput(dataTable, element);\n",
              "        const docLink = document.createElement('div');\n",
              "        docLink.innerHTML = docLinkHtml;\n",
              "        element.appendChild(docLink);\n",
              "      }\n",
              "    </script>\n",
              "  </div>\n",
              "\n",
              "\n",
              "<div id=\"df-86aa196d-7d9b-4a74-b4ba-86aecbcbbf1e\">\n",
              "  <button class=\"colab-df-quickchart\" onclick=\"quickchart('df-86aa196d-7d9b-4a74-b4ba-86aecbcbbf1e')\"\n",
              "            title=\"Suggest charts\"\n",
              "            style=\"display:none;\">\n",
              "\n",
              "<svg xmlns=\"http://www.w3.org/2000/svg\" height=\"24px\"viewBox=\"0 0 24 24\"\n",
              "     width=\"24px\">\n",
              "    <g>\n",
              "        <path d=\"M19 3H5c-1.1 0-2 .9-2 2v14c0 1.1.9 2 2 2h14c1.1 0 2-.9 2-2V5c0-1.1-.9-2-2-2zM9 17H7v-7h2v7zm4 0h-2V7h2v10zm4 0h-2v-4h2v4z\"/>\n",
              "    </g>\n",
              "</svg>\n",
              "  </button>\n",
              "\n",
              "<style>\n",
              "  .colab-df-quickchart {\n",
              "      --bg-color: #E8F0FE;\n",
              "      --fill-color: #1967D2;\n",
              "      --hover-bg-color: #E2EBFA;\n",
              "      --hover-fill-color: #174EA6;\n",
              "      --disabled-fill-color: #AAA;\n",
              "      --disabled-bg-color: #DDD;\n",
              "  }\n",
              "\n",
              "  [theme=dark] .colab-df-quickchart {\n",
              "      --bg-color: #3B4455;\n",
              "      --fill-color: #D2E3FC;\n",
              "      --hover-bg-color: #434B5C;\n",
              "      --hover-fill-color: #FFFFFF;\n",
              "      --disabled-bg-color: #3B4455;\n",
              "      --disabled-fill-color: #666;\n",
              "  }\n",
              "\n",
              "  .colab-df-quickchart {\n",
              "    background-color: var(--bg-color);\n",
              "    border: none;\n",
              "    border-radius: 50%;\n",
              "    cursor: pointer;\n",
              "    display: none;\n",
              "    fill: var(--fill-color);\n",
              "    height: 32px;\n",
              "    padding: 0;\n",
              "    width: 32px;\n",
              "  }\n",
              "\n",
              "  .colab-df-quickchart:hover {\n",
              "    background-color: var(--hover-bg-color);\n",
              "    box-shadow: 0 1px 2px rgba(60, 64, 67, 0.3), 0 1px 3px 1px rgba(60, 64, 67, 0.15);\n",
              "    fill: var(--button-hover-fill-color);\n",
              "  }\n",
              "\n",
              "  .colab-df-quickchart-complete:disabled,\n",
              "  .colab-df-quickchart-complete:disabled:hover {\n",
              "    background-color: var(--disabled-bg-color);\n",
              "    fill: var(--disabled-fill-color);\n",
              "    box-shadow: none;\n",
              "  }\n",
              "\n",
              "  .colab-df-spinner {\n",
              "    border: 2px solid var(--fill-color);\n",
              "    border-color: transparent;\n",
              "    border-bottom-color: var(--fill-color);\n",
              "    animation:\n",
              "      spin 1s steps(1) infinite;\n",
              "  }\n",
              "\n",
              "  @keyframes spin {\n",
              "    0% {\n",
              "      border-color: transparent;\n",
              "      border-bottom-color: var(--fill-color);\n",
              "      border-left-color: var(--fill-color);\n",
              "    }\n",
              "    20% {\n",
              "      border-color: transparent;\n",
              "      border-left-color: var(--fill-color);\n",
              "      border-top-color: var(--fill-color);\n",
              "    }\n",
              "    30% {\n",
              "      border-color: transparent;\n",
              "      border-left-color: var(--fill-color);\n",
              "      border-top-color: var(--fill-color);\n",
              "      border-right-color: var(--fill-color);\n",
              "    }\n",
              "    40% {\n",
              "      border-color: transparent;\n",
              "      border-right-color: var(--fill-color);\n",
              "      border-top-color: var(--fill-color);\n",
              "    }\n",
              "    60% {\n",
              "      border-color: transparent;\n",
              "      border-right-color: var(--fill-color);\n",
              "    }\n",
              "    80% {\n",
              "      border-color: transparent;\n",
              "      border-right-color: var(--fill-color);\n",
              "      border-bottom-color: var(--fill-color);\n",
              "    }\n",
              "    90% {\n",
              "      border-color: transparent;\n",
              "      border-bottom-color: var(--fill-color);\n",
              "    }\n",
              "  }\n",
              "</style>\n",
              "\n",
              "  <script>\n",
              "    async function quickchart(key) {\n",
              "      const quickchartButtonEl =\n",
              "        document.querySelector('#' + key + ' button');\n",
              "      quickchartButtonEl.disabled = true;  // To prevent multiple clicks.\n",
              "      quickchartButtonEl.classList.add('colab-df-spinner');\n",
              "      try {\n",
              "        const charts = await google.colab.kernel.invokeFunction(\n",
              "            'suggestCharts', [key], {});\n",
              "      } catch (error) {\n",
              "        console.error('Error during call to suggestCharts:', error);\n",
              "      }\n",
              "      quickchartButtonEl.classList.remove('colab-df-spinner');\n",
              "      quickchartButtonEl.classList.add('colab-df-quickchart-complete');\n",
              "    }\n",
              "    (() => {\n",
              "      let quickchartButtonEl =\n",
              "        document.querySelector('#df-86aa196d-7d9b-4a74-b4ba-86aecbcbbf1e button');\n",
              "      quickchartButtonEl.style.display =\n",
              "        google.colab.kernel.accessAllowed ? 'block' : 'none';\n",
              "    })();\n",
              "  </script>\n",
              "</div>\n",
              "\n",
              "    </div>\n",
              "  </div>\n"
            ],
            "application/vnd.google.colaboratory.intrinsic+json": {
              "type": "dataframe",
              "variable_name": "df"
            }
          },
          "metadata": {},
          "execution_count": 5
        }
      ]
    },
    {
      "cell_type": "code",
      "source": [
        "df.info()"
      ],
      "metadata": {
        "colab": {
          "base_uri": "https://localhost:8080/"
        },
        "id": "1RUQKNw5c_Ws",
        "outputId": "103f3fa0-763b-4559-cdf0-7d31bb57a147"
      },
      "execution_count": 6,
      "outputs": [
        {
          "output_type": "stream",
          "name": "stdout",
          "text": [
            "<class 'pandas.core.frame.DataFrame'>\n",
            "RangeIndex: 40000 entries, 0 to 39999\n",
            "Data columns (total 25 columns):\n",
            " #   Column                  Non-Null Count  Dtype  \n",
            "---  ------                  --------------  -----  \n",
            " 0   Timestamp               40000 non-null  object \n",
            " 1   Source IP Address       40000 non-null  object \n",
            " 2   Destination IP Address  40000 non-null  object \n",
            " 3   Source Port             40000 non-null  int64  \n",
            " 4   Destination Port        40000 non-null  int64  \n",
            " 5   Protocol                40000 non-null  object \n",
            " 6   Packet Length           40000 non-null  int64  \n",
            " 7   Packet Type             40000 non-null  object \n",
            " 8   Traffic Type            40000 non-null  object \n",
            " 9   Payload Data            40000 non-null  object \n",
            " 10  Malware Indicators      20000 non-null  object \n",
            " 11  Anomaly Scores          40000 non-null  float64\n",
            " 12  Alerts/Warnings         19933 non-null  object \n",
            " 13  Attack Type             40000 non-null  object \n",
            " 14  Attack Signature        40000 non-null  object \n",
            " 15  Action Taken            40000 non-null  object \n",
            " 16  Severity Level          40000 non-null  object \n",
            " 17  User Information        40000 non-null  object \n",
            " 18  Device Information      40000 non-null  object \n",
            " 19  Network Segment         40000 non-null  object \n",
            " 20  Geo-location Data       40000 non-null  object \n",
            " 21  Proxy Information       20149 non-null  object \n",
            " 22  Firewall Logs           20039 non-null  object \n",
            " 23  IDS/IPS Alerts          19950 non-null  object \n",
            " 24  Log Source              40000 non-null  object \n",
            "dtypes: float64(1), int64(3), object(21)\n",
            "memory usage: 7.6+ MB\n"
          ]
        }
      ]
    },
    {
      "cell_type": "code",
      "source": [
        "df.shape"
      ],
      "metadata": {
        "colab": {
          "base_uri": "https://localhost:8080/"
        },
        "id": "dav9v1tidDb0",
        "outputId": "c940f22d-54cd-4b07-8cac-030a79f89cc7"
      },
      "execution_count": 7,
      "outputs": [
        {
          "output_type": "execute_result",
          "data": {
            "text/plain": [
              "(40000, 25)"
            ]
          },
          "metadata": {},
          "execution_count": 7
        }
      ]
    },
    {
      "cell_type": "code",
      "source": [
        "df.columns"
      ],
      "metadata": {
        "colab": {
          "base_uri": "https://localhost:8080/"
        },
        "id": "vWgZDrBYdIWo",
        "outputId": "a75f9a70-8ee0-42a0-b32b-97b7c128ce60"
      },
      "execution_count": 8,
      "outputs": [
        {
          "output_type": "execute_result",
          "data": {
            "text/plain": [
              "Index(['Timestamp', 'Source IP Address', 'Destination IP Address',\n",
              "       'Source Port', 'Destination Port', 'Protocol', 'Packet Length',\n",
              "       'Packet Type', 'Traffic Type', 'Payload Data', 'Malware Indicators',\n",
              "       'Anomaly Scores', 'Alerts/Warnings', 'Attack Type', 'Attack Signature',\n",
              "       'Action Taken', 'Severity Level', 'User Information',\n",
              "       'Device Information', 'Network Segment', 'Geo-location Data',\n",
              "       'Proxy Information', 'Firewall Logs', 'IDS/IPS Alerts', 'Log Source'],\n",
              "      dtype='object')"
            ]
          },
          "metadata": {},
          "execution_count": 8
        }
      ]
    },
    {
      "cell_type": "code",
      "source": [
        "# Fill missing values with placeholder strings\n",
        "df[\"Malware Indicators\"].fillna(\"Unknown\", inplace=True)\n",
        "df[\"Alerts/Warnings\"].fillna(\"None\", inplace=True)\n",
        "df[\"Proxy Information\"].fillna(\"No Proxy\", inplace=True)\n",
        "df[\"Firewall Logs\"].fillna(\"Unavailable\", inplace=True)\n",
        "df[\"IDS/IPS Alerts\"].fillna(\"No Alert\", inplace=True)"
      ],
      "metadata": {
        "colab": {
          "base_uri": "https://localhost:8080/"
        },
        "id": "yZ2MC2oSfjw7",
        "outputId": "1d13444f-b465-4fca-fa3f-7a4d8c1018cc"
      },
      "execution_count": 9,
      "outputs": [
        {
          "output_type": "stream",
          "name": "stderr",
          "text": [
            "<ipython-input-9-342c5ea0b20d>:2: FutureWarning: A value is trying to be set on a copy of a DataFrame or Series through chained assignment using an inplace method.\n",
            "The behavior will change in pandas 3.0. This inplace method will never work because the intermediate object on which we are setting values always behaves as a copy.\n",
            "\n",
            "For example, when doing 'df[col].method(value, inplace=True)', try using 'df.method({col: value}, inplace=True)' or df[col] = df[col].method(value) instead, to perform the operation inplace on the original object.\n",
            "\n",
            "\n",
            "  df[\"Malware Indicators\"].fillna(\"Unknown\", inplace=True)\n",
            "<ipython-input-9-342c5ea0b20d>:3: FutureWarning: A value is trying to be set on a copy of a DataFrame or Series through chained assignment using an inplace method.\n",
            "The behavior will change in pandas 3.0. This inplace method will never work because the intermediate object on which we are setting values always behaves as a copy.\n",
            "\n",
            "For example, when doing 'df[col].method(value, inplace=True)', try using 'df.method({col: value}, inplace=True)' or df[col] = df[col].method(value) instead, to perform the operation inplace on the original object.\n",
            "\n",
            "\n",
            "  df[\"Alerts/Warnings\"].fillna(\"None\", inplace=True)\n",
            "<ipython-input-9-342c5ea0b20d>:4: FutureWarning: A value is trying to be set on a copy of a DataFrame or Series through chained assignment using an inplace method.\n",
            "The behavior will change in pandas 3.0. This inplace method will never work because the intermediate object on which we are setting values always behaves as a copy.\n",
            "\n",
            "For example, when doing 'df[col].method(value, inplace=True)', try using 'df.method({col: value}, inplace=True)' or df[col] = df[col].method(value) instead, to perform the operation inplace on the original object.\n",
            "\n",
            "\n",
            "  df[\"Proxy Information\"].fillna(\"No Proxy\", inplace=True)\n",
            "<ipython-input-9-342c5ea0b20d>:5: FutureWarning: A value is trying to be set on a copy of a DataFrame or Series through chained assignment using an inplace method.\n",
            "The behavior will change in pandas 3.0. This inplace method will never work because the intermediate object on which we are setting values always behaves as a copy.\n",
            "\n",
            "For example, when doing 'df[col].method(value, inplace=True)', try using 'df.method({col: value}, inplace=True)' or df[col] = df[col].method(value) instead, to perform the operation inplace on the original object.\n",
            "\n",
            "\n",
            "  df[\"Firewall Logs\"].fillna(\"Unavailable\", inplace=True)\n",
            "<ipython-input-9-342c5ea0b20d>:6: FutureWarning: A value is trying to be set on a copy of a DataFrame or Series through chained assignment using an inplace method.\n",
            "The behavior will change in pandas 3.0. This inplace method will never work because the intermediate object on which we are setting values always behaves as a copy.\n",
            "\n",
            "For example, when doing 'df[col].method(value, inplace=True)', try using 'df.method({col: value}, inplace=True)' or df[col] = df[col].method(value) instead, to perform the operation inplace on the original object.\n",
            "\n",
            "\n",
            "  df[\"IDS/IPS Alerts\"].fillna(\"No Alert\", inplace=True)\n"
          ]
        }
      ]
    },
    {
      "cell_type": "code",
      "source": [
        "# Optionally check if missing values remain\n",
        "print(df.isnull().sum())"
      ],
      "metadata": {
        "colab": {
          "base_uri": "https://localhost:8080/"
        },
        "id": "z2HhEYHTfGGb",
        "outputId": "5a75c3a0-bab7-420c-d06d-19f5480c7455"
      },
      "execution_count": 10,
      "outputs": [
        {
          "output_type": "stream",
          "name": "stdout",
          "text": [
            "Timestamp                 0\n",
            "Source IP Address         0\n",
            "Destination IP Address    0\n",
            "Source Port               0\n",
            "Destination Port          0\n",
            "Protocol                  0\n",
            "Packet Length             0\n",
            "Packet Type               0\n",
            "Traffic Type              0\n",
            "Payload Data              0\n",
            "Malware Indicators        0\n",
            "Anomaly Scores            0\n",
            "Alerts/Warnings           0\n",
            "Attack Type               0\n",
            "Attack Signature          0\n",
            "Action Taken              0\n",
            "Severity Level            0\n",
            "User Information          0\n",
            "Device Information        0\n",
            "Network Segment           0\n",
            "Geo-location Data         0\n",
            "Proxy Information         0\n",
            "Firewall Logs             0\n",
            "IDS/IPS Alerts            0\n",
            "Log Source                0\n",
            "dtype: int64\n"
          ]
        }
      ]
    },
    {
      "cell_type": "code",
      "source": [
        "threshold = 0.5  # Drop columns with more than 50% missing\n",
        "df = df.loc[:, df.isnull().mean() < threshold]"
      ],
      "metadata": {
        "id": "peQyI7UEfoGR"
      },
      "execution_count": 11,
      "outputs": []
    },
    {
      "cell_type": "code",
      "source": [
        "df['Attack Type'].value_counts(normalize=True)"
      ],
      "metadata": {
        "colab": {
          "base_uri": "https://localhost:8080/",
          "height": 209
        },
        "id": "6VfuBtQqf2ei",
        "outputId": "cf8596e0-fc6b-4311-db47-ccd41b32dd74"
      },
      "execution_count": 12,
      "outputs": [
        {
          "output_type": "execute_result",
          "data": {
            "text/plain": [
              "Attack Type\n",
              "DDoS         0.335700\n",
              "Malware      0.332675\n",
              "Intrusion    0.331625\n",
              "Name: proportion, dtype: float64"
            ],
            "text/html": [
              "<div>\n",
              "<style scoped>\n",
              "    .dataframe tbody tr th:only-of-type {\n",
              "        vertical-align: middle;\n",
              "    }\n",
              "\n",
              "    .dataframe tbody tr th {\n",
              "        vertical-align: top;\n",
              "    }\n",
              "\n",
              "    .dataframe thead th {\n",
              "        text-align: right;\n",
              "    }\n",
              "</style>\n",
              "<table border=\"1\" class=\"dataframe\">\n",
              "  <thead>\n",
              "    <tr style=\"text-align: right;\">\n",
              "      <th></th>\n",
              "      <th>proportion</th>\n",
              "    </tr>\n",
              "    <tr>\n",
              "      <th>Attack Type</th>\n",
              "      <th></th>\n",
              "    </tr>\n",
              "  </thead>\n",
              "  <tbody>\n",
              "    <tr>\n",
              "      <th>DDoS</th>\n",
              "      <td>0.335700</td>\n",
              "    </tr>\n",
              "    <tr>\n",
              "      <th>Malware</th>\n",
              "      <td>0.332675</td>\n",
              "    </tr>\n",
              "    <tr>\n",
              "      <th>Intrusion</th>\n",
              "      <td>0.331625</td>\n",
              "    </tr>\n",
              "  </tbody>\n",
              "</table>\n",
              "</div><br><label><b>dtype:</b> float64</label>"
            ]
          },
          "metadata": {},
          "execution_count": 12
        }
      ]
    },
    {
      "cell_type": "code",
      "source": [
        "df['User Information'].nunique()"
      ],
      "metadata": {
        "colab": {
          "base_uri": "https://localhost:8080/"
        },
        "id": "--hxIMzff95g",
        "outputId": "3f609263-f4ff-4a4c-e511-e8cc15722a8a"
      },
      "execution_count": 13,
      "outputs": [
        {
          "output_type": "execute_result",
          "data": {
            "text/plain": [
              "32389"
            ]
          },
          "metadata": {},
          "execution_count": 13
        }
      ]
    },
    {
      "cell_type": "code",
      "source": [
        "import seaborn as sns\n",
        "import matplotlib.pyplot as plt\n",
        "\n",
        "corr = df.select_dtypes(include=['int64', 'float64']).corr()\n",
        "sns.heatmap(corr, annot=True, cmap='coolwarm')\n",
        "plt.show()"
      ],
      "metadata": {
        "colab": {
          "base_uri": "https://localhost:8080/",
          "height": 533
        },
        "id": "vpgTNA6cgzZc",
        "outputId": "01c720ce-351a-4412-cf14-0d88b39a7834"
      },
      "execution_count": 14,
      "outputs": [
        {
          "output_type": "display_data",
          "data": {
            "text/plain": [
              "<Figure size 640x480 with 2 Axes>"
            ],
            "image/png": "[encoded data removed]"
          },
          "metadata": {}
        }
      ]
    },
    {
      "cell_type": "code",
      "source": [
        "# Drop high-cardinality and sparse columns\n",
        "df_clean = df.drop(columns=[\n",
        "    'User Information',\n",
        "    'Payload Data',\n",
        "    'Proxy Information',\n",
        "    'Firewall Logs',\n",
        "    'IDS/IPS Alerts',\n",
        "    'Alerts/Warnings',\n",
        "])"
      ],
      "metadata": {
        "id": "EPSrvwqNhDoF"
      },
      "execution_count": 15,
      "outputs": []
    },
    {
      "cell_type": "code",
      "source": [
        "df_clean['Malware Indicators'] = df_clean['Malware Indicators'].fillna('None')"
      ],
      "metadata": {
        "id": "w5TwgLcBhHaO"
      },
      "execution_count": 16,
      "outputs": []
    },
    {
      "cell_type": "code",
      "source": [
        "df_clean['Timestamp'] = pd.to_datetime(df_clean['Timestamp'], errors='coerce')\n",
        "\n",
        "# Extract useful time features\n",
        "df_clean['Hour'] = df_clean['Timestamp'].dt.hour\n",
        "df_clean['Day'] = df_clean['Timestamp'].dt.day\n",
        "df_clean['Month'] = df_clean['Timestamp'].dt.month"
      ],
      "metadata": {
        "id": "cSOWwvXXhI3d"
      },
      "execution_count": 17,
      "outputs": []
    },
    {
      "cell_type": "code",
      "source": [
        "from sklearn.preprocessing import LabelEncoder\n",
        "\n",
        "categorical_cols = [\n",
        "    'Source IP Address', 'Destination IP Address',\n",
        "    'Protocol', 'Packet Type', 'Traffic Type',\n",
        "    'Malware Indicators', 'Attack Signature',\n",
        "    'Action Taken', 'Severity Level',\n",
        "    'Device Information', 'Network Segment',\n",
        "    'Geo-location Data', 'Log Source'\n",
        "]\n",
        "\n",
        "le = LabelEncoder()\n",
        "for col in categorical_cols:\n",
        "    df_clean[col] = le.fit_transform(df_clean[col].astype(str))"
      ],
      "metadata": {
        "id": "PS9bTKMhhOs3"
      },
      "execution_count": 18,
      "outputs": []
    },
    {
      "cell_type": "code",
      "source": [
        "df_clean = df_clean.drop(columns=['Timestamp'])"
      ],
      "metadata": {
        "id": "xYl80qbWhR_j"
      },
      "execution_count": 19,
      "outputs": []
    },
    {
      "cell_type": "code",
      "source": [
        "df.head().T"
      ],
      "metadata": {
        "colab": {
          "base_uri": "https://localhost:8080/",
          "height": 920
        },
        "id": "jh9dy_ZLOYu2",
        "outputId": "1cdd5872-47ce-4bd1-fc08-2ac570772399"
      },
      "execution_count": 20,
      "outputs": [
        {
          "output_type": "execute_result",
          "data": {
            "text/plain": [
              "                                                                        0  \\\n",
              "Timestamp                                             2023-05-30 06:33:58   \n",
              "Source IP Address                                           103.216.15.12   \n",
              "Destination IP Address                                       84.9.164.252   \n",
              "Source Port                                                         31225   \n",
              "Destination Port                                                    17616   \n",
              "Protocol                                                             ICMP   \n",
              "Packet Length                                                         503   \n",
              "Packet Type                                                          Data   \n",
              "Traffic Type                                                         HTTP   \n",
              "Payload Data            Qui natus odio asperiores nam. Optio nobis ius...   \n",
              "Malware Indicators                                           IoC Detected   \n",
              "Anomaly Scores                                                      28.67   \n",
              "Alerts/Warnings                                                      None   \n",
              "Attack Type                                                       Malware   \n",
              "Attack Signature                                          Known Pattern B   \n",
              "Action Taken                                                       Logged   \n",
              "Severity Level                                                        Low   \n",
              "User Information                                            Reyansh Dugal   \n",
              "Device Information      Mozilla/5.0 (compatible; MSIE 8.0; Windows NT ...   \n",
              "Network Segment                                                 Segment A   \n",
              "Geo-location Data                                      Jamshedpur, Sikkim   \n",
              "Proxy Information                                            150.9.97.135   \n",
              "Firewall Logs                                                    Log Data   \n",
              "IDS/IPS Alerts                                                   No Alert   \n",
              "Log Source                                                         Server   \n",
              "\n",
              "                                                                        1  \\\n",
              "Timestamp                                             2020-08-26 07:08:30   \n",
              "Source IP Address                                          78.199.217.198   \n",
              "Destination IP Address                                     66.191.137.154   \n",
              "Source Port                                                         17245   \n",
              "Destination Port                                                    48166   \n",
              "Protocol                                                             ICMP   \n",
              "Packet Length                                                        1174   \n",
              "Packet Type                                                          Data   \n",
              "Traffic Type                                                         HTTP   \n",
              "Payload Data            Aperiam quos modi officiis veritatis rem. Omni...   \n",
              "Malware Indicators                                           IoC Detected   \n",
              "Anomaly Scores                                                       51.5   \n",
              "Alerts/Warnings                                                      None   \n",
              "Attack Type                                                       Malware   \n",
              "Attack Signature                                          Known Pattern A   \n",
              "Action Taken                                                      Blocked   \n",
              "Severity Level                                                        Low   \n",
              "User Information                                               Sumer Rana   \n",
              "Device Information      Mozilla/5.0 (compatible; MSIE 8.0; Windows NT ...   \n",
              "Network Segment                                                 Segment B   \n",
              "Geo-location Data                                      Bilaspur, Nagaland   \n",
              "Proxy Information                                                No Proxy   \n",
              "Firewall Logs                                                    Log Data   \n",
              "IDS/IPS Alerts                                                   No Alert   \n",
              "Log Source                                                       Firewall   \n",
              "\n",
              "                                                                        2  \\\n",
              "Timestamp                                             2022-11-13 08:23:25   \n",
              "Source IP Address                                            63.79.210.48   \n",
              "Destination IP Address                                      198.219.82.17   \n",
              "Source Port                                                         16811   \n",
              "Destination Port                                                    53600   \n",
              "Protocol                                                              UDP   \n",
              "Packet Length                                                         306   \n",
              "Packet Type                                                       Control   \n",
              "Traffic Type                                                         HTTP   \n",
              "Payload Data            Perferendis sapiente vitae soluta. Hic delectu...   \n",
              "Malware Indicators                                           IoC Detected   \n",
              "Anomaly Scores                                                      87.42   \n",
              "Alerts/Warnings                                           Alert Triggered   \n",
              "Attack Type                                                          DDoS   \n",
              "Attack Signature                                          Known Pattern B   \n",
              "Action Taken                                                      Ignored   \n",
              "Severity Level                                                        Low   \n",
              "User Information                                             Himmat Karpe   \n",
              "Device Information      Mozilla/5.0 (compatible; MSIE 9.0; Windows NT ...   \n",
              "Network Segment                                                 Segment C   \n",
              "Geo-location Data                                       Bokaro, Rajasthan   \n",
              "Proxy Information                                          114.133.48.179   \n",
              "Firewall Logs                                                    Log Data   \n",
              "IDS/IPS Alerts                                                 Alert Data   \n",
              "Log Source                                                       Firewall   \n",
              "\n",
              "                                                                        3  \\\n",
              "Timestamp                                             2023-07-02 10:38:46   \n",
              "Source IP Address                                           163.42.196.10   \n",
              "Destination IP Address                                    101.228.192.255   \n",
              "Source Port                                                         20018   \n",
              "Destination Port                                                    32534   \n",
              "Protocol                                                              UDP   \n",
              "Packet Length                                                         385   \n",
              "Packet Type                                                          Data   \n",
              "Traffic Type                                                         HTTP   \n",
              "Payload Data            Totam maxime beatae expedita explicabo porro l...   \n",
              "Malware Indicators                                                Unknown   \n",
              "Anomaly Scores                                                      15.79   \n",
              "Alerts/Warnings                                           Alert Triggered   \n",
              "Attack Type                                                       Malware   \n",
              "Attack Signature                                          Known Pattern B   \n",
              "Action Taken                                                      Blocked   \n",
              "Severity Level                                                     Medium   \n",
              "User Information                                               Fateh Kibe   \n",
              "Device Information      Mozilla/5.0 (Macintosh; PPC Mac OS X 10_11_5; ...   \n",
              "Network Segment                                                 Segment B   \n",
              "Geo-location Data                                      Jaunpur, Rajasthan   \n",
              "Proxy Information                                                No Proxy   \n",
              "Firewall Logs                                                 Unavailable   \n",
              "IDS/IPS Alerts                                                 Alert Data   \n",
              "Log Source                                                       Firewall   \n",
              "\n",
              "                                                                        4  \n",
              "Timestamp                                             2023-07-16 13:11:07  \n",
              "Source IP Address                                           71.166.185.76  \n",
              "Destination IP Address                                    189.243.174.238  \n",
              "Source Port                                                          6131  \n",
              "Destination Port                                                    26646  \n",
              "Protocol                                                              TCP  \n",
              "Packet Length                                                        1462  \n",
              "Packet Type                                                          Data  \n",
              "Traffic Type                                                          DNS  \n",
              "Payload Data            Odit nesciunt dolorem nisi iste iusto. Animi v...  \n",
              "Malware Indicators                                                Unknown  \n",
              "Anomaly Scores                                                       0.52  \n",
              "Alerts/Warnings                                           Alert Triggered  \n",
              "Attack Type                                                          DDoS  \n",
              "Attack Signature                                          Known Pattern B  \n",
              "Action Taken                                                      Blocked  \n",
              "Severity Level                                                        Low  \n",
              "User Information                                             Dhanush Chad  \n",
              "Device Information      Mozilla/5.0 (compatible; MSIE 5.0; Windows NT ...  \n",
              "Network Segment                                                 Segment C  \n",
              "Geo-location Data                                      Anantapur, Tripura  \n",
              "Proxy Information                                           149.6.110.119  \n",
              "Firewall Logs                                                 Unavailable  \n",
              "IDS/IPS Alerts                                                 Alert Data  \n",
              "Log Source                                                       Firewall  "
            ],
            "text/html": [
              "\n",
              "  <div id=\"df-364e77c1-b75b-4422-a776-07ca8f39885a\" class=\"colab-df-container\">\n",
              "    <div>\n",
              "<style scoped>\n",
              "    .dataframe tbody tr th:only-of-type {\n",
              "        vertical-align: middle;\n",
              "    }\n",
              "\n",
              "    .dataframe tbody tr th {\n",
              "        vertical-align: top;\n",
              "    }\n",
              "\n",
              "    .dataframe thead th {\n",
              "        text-align: right;\n",
              "    }\n",
              "</style>\n",
              "<table border=\"1\" class=\"dataframe\">\n",
              "  <thead>\n",
              "    <tr style=\"text-align: right;\">\n",
              "      <th></th>\n",
              "      <th>0</th>\n",
              "      <th>1</th>\n",
              "      <th>2</th>\n",
              "      <th>3</th>\n",
              "      <th>4</th>\n",
              "    </tr>\n",
              "  </thead>\n",
              "  <tbody>\n",
              "    <tr>\n",
              "      <th>Timestamp</th>\n",
              "      <td>2023-05-30 06:33:58</td>\n",
              "      <td>2020-08-26 07:08:30</td>\n",
              "      <td>2022-11-13 08:23:25</td>\n",
              "      <td>2023-07-02 10:38:46</td>\n",
              "      <td>2023-07-16 13:11:07</td>\n",
              "    </tr>\n",
              "    <tr>\n",
              "      <th>Source IP Address</th>\n",
              "      <td>103.216.15.12</td>\n",
              "      <td>78.199.217.198</td>\n",
              "      <td>63.79.210.48</td>\n",
              "      <td>163.42.196.10</td>\n",
              "      <td>71.166.185.76</td>\n",
              "    </tr>\n",
              "    <tr>\n",
              "      <th>Destination IP Address</th>\n",
              "      <td>84.9.164.252</td>\n",
              "      <td>66.191.137.154</td>\n",
              "      <td>198.219.82.17</td>\n",
              "      <td>101.228.192.255</td>\n",
              "      <td>189.243.174.238</td>\n",
              "    </tr>\n",
              "    <tr>\n",
              "      <th>Source Port</th>\n",
              "      <td>31225</td>\n",
              "      <td>17245</td>\n",
              "      <td>16811</td>\n",
              "      <td>20018</td>\n",
              "      <td>6131</td>\n",
              "    </tr>\n",
              "    <tr>\n",
              "      <th>Destination Port</th>\n",
              "      <td>17616</td>\n",
              "      <td>48166</td>\n",
              "      <td>53600</td>\n",
              "      <td>32534</td>\n",
              "      <td>26646</td>\n",
              "    </tr>\n",
              "    <tr>\n",
              "      <th>Protocol</th>\n",
              "      <td>ICMP</td>\n",
              "      <td>ICMP</td>\n",
              "      <td>UDP</td>\n",
              "      <td>UDP</td>\n",
              "      <td>TCP</td>\n",
              "    </tr>\n",
              "    <tr>\n",
              "      <th>Packet Length</th>\n",
              "      <td>503</td>\n",
              "      <td>1174</td>\n",
              "      <td>306</td>\n",
              "      <td>385</td>\n",
              "      <td>1462</td>\n",
              "    </tr>\n",
              "    <tr>\n",
              "      <th>Packet Type</th>\n",
              "      <td>Data</td>\n",
              "      <td>Data</td>\n",
              "      <td>Control</td>\n",
              "      <td>Data</td>\n",
              "      <td>Data</td>\n",
              "    </tr>\n",
              "    <tr>\n",
              "      <th>Traffic Type</th>\n",
              "      <td>HTTP</td>\n",
              "      <td>HTTP</td>\n",
              "      <td>HTTP</td>\n",
              "      <td>HTTP</td>\n",
              "      <td>DNS</td>\n",
              "    </tr>\n",
              "    <tr>\n",
              "      <th>Payload Data</th>\n",
              "      <td>Qui natus odio asperiores nam. Optio nobis ius...</td>\n",
              "      <td>Aperiam quos modi officiis veritatis rem. Omni...</td>\n",
              "      <td>Perferendis sapiente vitae soluta. Hic delectu...</td>\n",
              "      <td>Totam maxime beatae expedita explicabo porro l...</td>\n",
              "      <td>Odit nesciunt dolorem nisi iste iusto. Animi v...</td>\n",
              "    </tr>\n",
              "    <tr>\n",
              "      <th>Malware Indicators</th>\n",
              "      <td>IoC Detected</td>\n",
              "      <td>IoC Detected</td>\n",
              "      <td>IoC Detected</td>\n",
              "      <td>Unknown</td>\n",
              "      <td>Unknown</td>\n",
              "    </tr>\n",
              "    <tr>\n",
              "      <th>Anomaly Scores</th>\n",
              "      <td>28.67</td>\n",
              "      <td>51.5</td>\n",
              "      <td>87.42</td>\n",
              "      <td>15.79</td>\n",
              "      <td>0.52</td>\n",
              "    </tr>\n",
              "    <tr>\n",
              "      <th>Alerts/Warnings</th>\n",
              "      <td>None</td>\n",
              "      <td>None</td>\n",
              "      <td>Alert Triggered</td>\n",
              "      <td>Alert Triggered</td>\n",
              "      <td>Alert Triggered</td>\n",
              "    </tr>\n",
              "    <tr>\n",
              "      <th>Attack Type</th>\n",
              "      <td>Malware</td>\n",
              "      <td>Malware</td>\n",
              "      <td>DDoS</td>\n",
              "      <td>Malware</td>\n",
              "      <td>DDoS</td>\n",
              "    </tr>\n",
              "    <tr>\n",
              "      <th>Attack Signature</th>\n",
              "      <td>Known Pattern B</td>\n",
              "      <td>Known Pattern A</td>\n",
              "      <td>Known Pattern B</td>\n",
              "      <td>Known Pattern B</td>\n",
              "      <td>Known Pattern B</td>\n",
              "    </tr>\n",
              "    <tr>\n",
              "      <th>Action Taken</th>\n",
              "      <td>Logged</td>\n",
              "      <td>Blocked</td>\n",
              "      <td>Ignored</td>\n",
              "      <td>Blocked</td>\n",
              "      <td>Blocked</td>\n",
              "    </tr>\n",
              "    <tr>\n",
              "      <th>Severity Level</th>\n",
              "      <td>Low</td>\n",
              "      <td>Low</td>\n",
              "      <td>Low</td>\n",
              "      <td>Medium</td>\n",
              "      <td>Low</td>\n",
              "    </tr>\n",
              "    <tr>\n",
              "      <th>User Information</th>\n",
              "      <td>Reyansh Dugal</td>\n",
              "      <td>Sumer Rana</td>\n",
              "      <td>Himmat Karpe</td>\n",
              "      <td>Fateh Kibe</td>\n",
              "      <td>Dhanush Chad</td>\n",
              "    </tr>\n",
              "    <tr>\n",
              "      <th>Device Information</th>\n",
              "      <td>Mozilla/5.0 (compatible; MSIE 8.0; Windows NT ...</td>\n",
              "      <td>Mozilla/5.0 (compatible; MSIE 8.0; Windows NT ...</td>\n",
              "      <td>Mozilla/5.0 (compatible; MSIE 9.0; Windows NT ...</td>\n",
              "      <td>Mozilla/5.0 (Macintosh; PPC Mac OS X 10_11_5; ...</td>\n",
              "      <td>Mozilla/5.0 (compatible; MSIE 5.0; Windows NT ...</td>\n",
              "    </tr>\n",
              "    <tr>\n",
              "      <th>Network Segment</th>\n",
              "      <td>Segment A</td>\n",
              "      <td>Segment B</td>\n",
              "      <td>Segment C</td>\n",
              "      <td>Segment B</td>\n",
              "      <td>Segment C</td>\n",
              "    </tr>\n",
              "    <tr>\n",
              "      <th>Geo-location Data</th>\n",
              "      <td>Jamshedpur, Sikkim</td>\n",
              "      <td>Bilaspur, Nagaland</td>\n",
              "      <td>Bokaro, Rajasthan</td>\n",
              "      <td>Jaunpur, Rajasthan</td>\n",
              "      <td>Anantapur, Tripura</td>\n",
              "    </tr>\n",
              "    <tr>\n",
              "      <th>Proxy Information</th>\n",
              "      <td>150.9.97.135</td>\n",
              "      <td>No Proxy</td>\n",
              "      <td>114.133.48.179</td>\n",
              "      <td>No Proxy</td>\n",
              "      <td>149.6.110.119</td>\n",
              "    </tr>\n",
              "    <tr>\n",
              "      <th>Firewall Logs</th>\n",
              "      <td>Log Data</td>\n",
              "      <td>Log Data</td>\n",
              "      <td>Log Data</td>\n",
              "      <td>Unavailable</td>\n",
              "      <td>Unavailable</td>\n",
              "    </tr>\n",
              "    <tr>\n",
              "      <th>IDS/IPS Alerts</th>\n",
              "      <td>No Alert</td>\n",
              "      <td>No Alert</td>\n",
              "      <td>Alert Data</td>\n",
              "      <td>Alert Data</td>\n",
              "      <td>Alert Data</td>\n",
              "    </tr>\n",
              "    <tr>\n",
              "      <th>Log Source</th>\n",
              "      <td>Server</td>\n",
              "      <td>Firewall</td>\n",
              "      <td>Firewall</td>\n",
              "      <td>Firewall</td>\n",
              "      <td>Firewall</td>\n",
              "    </tr>\n",
              "  </tbody>\n",
              "</table>\n",
              "</div>\n",
              "    <div class=\"colab-df-buttons\">\n",
              "\n",
              "  <div class=\"colab-df-container\">\n",
              "    <button class=\"colab-df-convert\" onclick=\"convertToInteractive('df-364e77c1-b75b-4422-a776-07ca8f39885a')\"\n",
              "            title=\"Convert this dataframe to an interactive table.\"\n",
              "            style=\"display:none;\">\n",
              "\n",
              "  <svg xmlns=\"http://www.w3.org/2000/svg\" height=\"24px\" viewBox=\"0 -960 960 960\">\n",
              "    <path d=\"M120-120v-720h720v720H120Zm60-500h600v-160H180v160Zm220 220h160v-160H400v160Zm0 220h160v-160H400v160ZM180-400h160v-160H180v160Zm440 0h160v-160H620v160ZM180-180h160v-160H180v160Zm440 0h160v-160H620v160Z\"/>\n",
              "  </svg>\n",
              "    </button>\n",
              "\n",
              "  <style>\n",
              "    .colab-df-container {\n",
              "      display:flex;\n",
              "      gap: 12px;\n",
              "    }\n",
              "\n",
              "    .colab-df-convert {\n",
              "      background-color: #E8F0FE;\n",
              "      border: none;\n",
              "      border-radius: 50%;\n",
              "      cursor: pointer;\n",
              "      display: none;\n",
              "      fill: #1967D2;\n",
              "      height: 32px;\n",
              "      padding: 0 0 0 0;\n",
              "      width: 32px;\n",
              "    }\n",
              "\n",
              "    .colab-df-convert:hover {\n",
              "      background-color: #E2EBFA;\n",
              "      box-shadow: 0px 1px 2px rgba(60, 64, 67, 0.3), 0px 1px 3px 1px rgba(60, 64, 67, 0.15);\n",
              "      fill: #174EA6;\n",
              "    }\n",
              "\n",
              "    .colab-df-buttons div {\n",
              "      margin-bottom: 4px;\n",
              "    }\n",
              "\n",
              "    [theme=dark] .colab-df-convert {\n",
              "      background-color: #3B4455;\n",
              "      fill: #D2E3FC;\n",
              "    }\n",
              "\n",
              "    [theme=dark] .colab-df-convert:hover {\n",
              "      background-color: #434B5C;\n",
              "      box-shadow: 0px 1px 3px 1px rgba(0, 0, 0, 0.15);\n",
              "      filter: drop-shadow(0px 1px 2px rgba(0, 0, 0, 0.3));\n",
              "      fill: #FFFFFF;\n",
              "    }\n",
              "  </style>\n",
              "\n",
              "    <script>\n",
              "      const buttonEl =\n",
              "        document.querySelector('#df-364e77c1-b75b-4422-a776-07ca8f39885a button.colab-df-convert');\n",
              "      buttonEl.style.display =\n",
              "        google.colab.kernel.accessAllowed ? 'block' : 'none';\n",
              "\n",
              "      async function convertToInteractive(key) {\n",
              "        const element = document.querySelector('#df-364e77c1-b75b-4422-a776-07ca8f39885a');\n",
              "        const dataTable =\n",
              "          await google.colab.kernel.invokeFunction('convertToInteractive',\n",
              "                                                    [key], {});\n",
              "        if (!dataTable) return;\n",
              "\n",
              "        const docLinkHtml = 'Like what you see? Visit the ' +\n",
              "          '<a target=\"_blank\" href=https://colab.research.google.com/notebooks/data_table.ipynb>data table notebook</a>'\n",
              "          + ' to learn more about interactive tables.';\n",
              "        element.innerHTML = '';\n",
              "        dataTable['output_type'] = 'display_data';\n",
              "        await google.colab.output.renderOutput(dataTable, element);\n",
              "        const docLink = document.createElement('div');\n",
              "        docLink.innerHTML = docLinkHtml;\n",
              "        element.appendChild(docLink);\n",
              "      }\n",
              "    </script>\n",
              "  </div>\n",
              "\n",
              "\n",
              "<div id=\"df-333c95be-8e62-40b0-87e2-f1cb30143897\">\n",
              "  <button class=\"colab-df-quickchart\" onclick=\"quickchart('df-333c95be-8e62-40b0-87e2-f1cb30143897')\"\n",
              "            title=\"Suggest charts\"\n",
              "            style=\"display:none;\">\n",
              "\n",
              "<svg xmlns=\"http://www.w3.org/2000/svg\" height=\"24px\"viewBox=\"0 0 24 24\"\n",
              "     width=\"24px\">\n",
              "    <g>\n",
              "        <path d=\"M19 3H5c-1.1 0-2 .9-2 2v14c0 1.1.9 2 2 2h14c1.1 0 2-.9 2-2V5c0-1.1-.9-2-2-2zM9 17H7v-7h2v7zm4 0h-2V7h2v10zm4 0h-2v-4h2v4z\"/>\n",
              "    </g>\n",
              "</svg>\n",
              "  </button>\n",
              "\n",
              "<style>\n",
              "  .colab-df-quickchart {\n",
              "      --bg-color: #E8F0FE;\n",
              "      --fill-color: #1967D2;\n",
              "      --hover-bg-color: #E2EBFA;\n",
              "      --hover-fill-color: #174EA6;\n",
              "      --disabled-fill-color: #AAA;\n",
              "      --disabled-bg-color: #DDD;\n",
              "  }\n",
              "\n",
              "  [theme=dark] .colab-df-quickchart {\n",
              "      --bg-color: #3B4455;\n",
              "      --fill-color: #D2E3FC;\n",
              "      --hover-bg-color: #434B5C;\n",
              "      --hover-fill-color: #FFFFFF;\n",
              "      --disabled-bg-color: #3B4455;\n",
              "      --disabled-fill-color: #666;\n",
              "  }\n",
              "\n",
              "  .colab-df-quickchart {\n",
              "    background-color: var(--bg-color);\n",
              "    border: none;\n",
              "    border-radius: 50%;\n",
              "    cursor: pointer;\n",
              "    display: none;\n",
              "    fill: var(--fill-color);\n",
              "    height: 32px;\n",
              "    padding: 0;\n",
              "    width: 32px;\n",
              "  }\n",
              "\n",
              "  .colab-df-quickchart:hover {\n",
              "    background-color: var(--hover-bg-color);\n",
              "    box-shadow: 0 1px 2px rgba(60, 64, 67, 0.3), 0 1px 3px 1px rgba(60, 64, 67, 0.15);\n",
              "    fill: var(--button-hover-fill-color);\n",
              "  }\n",
              "\n",
              "  .colab-df-quickchart-complete:disabled,\n",
              "  .colab-df-quickchart-complete:disabled:hover {\n",
              "    background-color: var(--disabled-bg-color);\n",
              "    fill: var(--disabled-fill-color);\n",
              "    box-shadow: none;\n",
              "  }\n",
              "\n",
              "  .colab-df-spinner {\n",
              "    border: 2px solid var(--fill-color);\n",
              "    border-color: transparent;\n",
              "    border-bottom-color: var(--fill-color);\n",
              "    animation:\n",
              "      spin 1s steps(1) infinite;\n",
              "  }\n",
              "\n",
              "  @keyframes spin {\n",
              "    0% {\n",
              "      border-color: transparent;\n",
              "      border-bottom-color: var(--fill-color);\n",
              "      border-left-color: var(--fill-color);\n",
              "    }\n",
              "    20% {\n",
              "      border-color: transparent;\n",
              "      border-left-color: var(--fill-color);\n",
              "      border-top-color: var(--fill-color);\n",
              "    }\n",
              "    30% {\n",
              "      border-color: transparent;\n",
              "      border-left-color: var(--fill-color);\n",
              "      border-top-color: var(--fill-color);\n",
              "      border-right-color: var(--fill-color);\n",
              "    }\n",
              "    40% {\n",
              "      border-color: transparent;\n",
              "      border-right-color: var(--fill-color);\n",
              "      border-top-color: var(--fill-color);\n",
              "    }\n",
              "    60% {\n",
              "      border-color: transparent;\n",
              "      border-right-color: var(--fill-color);\n",
              "    }\n",
              "    80% {\n",
              "      border-color: transparent;\n",
              "      border-right-color: var(--fill-color);\n",
              "      border-bottom-color: var(--fill-color);\n",
              "    }\n",
              "    90% {\n",
              "      border-color: transparent;\n",
              "      border-bottom-color: var(--fill-color);\n",
              "    }\n",
              "  }\n",
              "</style>\n",
              "\n",
              "  <script>\n",
              "    async function quickchart(key) {\n",
              "      const quickchartButtonEl =\n",
              "        document.querySelector('#' + key + ' button');\n",
              "      quickchartButtonEl.disabled = true;  // To prevent multiple clicks.\n",
              "      quickchartButtonEl.classList.add('colab-df-spinner');\n",
              "      try {\n",
              "        const charts = await google.colab.kernel.invokeFunction(\n",
              "            'suggestCharts', [key], {});\n",
              "      } catch (error) {\n",
              "        console.error('Error during call to suggestCharts:', error);\n",
              "      }\n",
              "      quickchartButtonEl.classList.remove('colab-df-spinner');\n",
              "      quickchartButtonEl.classList.add('colab-df-quickchart-complete');\n",
              "    }\n",
              "    (() => {\n",
              "      let quickchartButtonEl =\n",
              "        document.querySelector('#df-333c95be-8e62-40b0-87e2-f1cb30143897 button');\n",
              "      quickchartButtonEl.style.display =\n",
              "        google.colab.kernel.accessAllowed ? 'block' : 'none';\n",
              "    })();\n",
              "  </script>\n",
              "</div>\n",
              "\n",
              "    </div>\n",
              "  </div>\n"
            ],
            "application/vnd.google.colaboratory.intrinsic+json": {
              "type": "dataframe",
              "variable_name": "df"
            }
          },
          "metadata": {},
          "execution_count": 20
        }
      ]
    },
    {
      "cell_type": "code",
      "source": [
        "import pandas as pd\n",
        "from collections import Counter\n",
        "\n",
        "# Load the CSV file\n",
        "df = pd.read_csv('cybersecurity_attacks.csv')\n",
        "\n",
        "# Check if the 'Malware Indicators' column exists\n",
        "if 'Malware Indicators' in df.columns:\n",
        "    # Drop NaN values\n",
        "    indicators_series = df['Malware Indicators'].dropna()\n",
        "\n",
        "    # Preview first few entries\n",
        "    print(\"Sample 'Malware Indicators' values:\")\n",
        "    print(indicators_series.head(5), '\\n')\n",
        "\n",
        "    # Split by comma if multiple indicators per row and strip whitespace\n",
        "    all_indicators = indicators_series.str.split(',').explode().str.strip()\n",
        "\n",
        "    # Count unique types\n",
        "    indicator_counts = Counter(all_indicators)\n",
        "\n",
        "    print(\"Different types of Malware Indicators and their counts:\")\n",
        "    for indicator, count in indicator_counts.items():\n",
        "        print(f\"- {indicator}: {count}\")\n",
        "else:\n",
        "    print(\"No column named 'Malware Indicators' found. Please check column names:\")\n",
        "    print(df.columns)\n"
      ],
      "metadata": {
        "id": "tlmBHi6fmSBn",
        "outputId": "f0e68e01-eb7a-4b2f-b0a8-b05bbf3ad303",
        "colab": {
          "base_uri": "https://localhost:8080/"
        }
      },
      "execution_count": 22,
      "outputs": [
        {
          "output_type": "stream",
          "name": "stdout",
          "text": [
            "Sample 'Malware Indicators' values:\n",
            "0    IoC Detected\n",
            "1    IoC Detected\n",
            "2    IoC Detected\n",
            "7    IoC Detected\n",
            "8    IoC Detected\n",
            "Name: Malware Indicators, dtype: object \n",
            "\n",
            "Different types of Malware Indicators and their counts:\n",
            "- IoC Detected: 20000\n"
          ]
        }
      ]
    },
    {
      "cell_type": "code",
      "source": [
        "import pandas as pd\n",
        "\n",
        "# Load the CSV\n",
        "df = pd.read_csv('cybersecurity_attacks.csv')\n",
        "\n",
        "# Check if 'Malware Indicators' exists\n",
        "if 'Malware Indicators' in df.columns:\n",
        "    # Drop missing values\n",
        "    indicators_series = df['Malware Indicators'].dropna()\n",
        "\n",
        "    # Print a few rows to understand structure\n",
        "    print(\"Sample rows:\")\n",
        "    print(indicators_series.head(5), '\\n')\n",
        "\n",
        "    # Try to find and count individual indicator keywords\n",
        "    split_indicators = indicators_series.astype(str).str.split(r'[;,|]', expand=False)\n",
        "    flattened_indicators = pd.Series([item.strip() for sublist in split_indicators for item in sublist])\n",
        "\n",
        "    # Count unique types\n",
        "    indicator_counts = flattened_indicators.value_counts()\n",
        "\n",
        "    print(\"Unique Malware Indicator types found:\")\n",
        "    for indicator, count in indicator_counts.items():\n",
        "        print(f\"- {indicator}: {count}\")\n",
        "else:\n",
        "    print(\"No column named 'Malware Indicators'. Here are available columns:\")\n",
        "    print(df.columns)"
      ],
      "metadata": {
        "id": "y5PTYve5m8zC",
        "outputId": "d2468658-6615-40c7-95e1-5ef79bc067c5",
        "colab": {
          "base_uri": "https://localhost:8080/"
        }
      },
      "execution_count": 23,
      "outputs": [
        {
          "output_type": "stream",
          "name": "stdout",
          "text": [
            "Sample rows:\n",
            "0    IoC Detected\n",
            "1    IoC Detected\n",
            "2    IoC Detected\n",
            "7    IoC Detected\n",
            "8    IoC Detected\n",
            "Name: Malware Indicators, dtype: object \n",
            "\n",
            "Unique Malware Indicator types found:\n",
            "- IoC Detected: 20000\n"
          ]
        }
      ]
    },
    {
      "cell_type": "code",
      "source": [
        "import pandas as pd\n",
        "\n",
        "# Load the CSV\n",
        "df = pd.read_csv('cybersecurity_attacks.csv')\n",
        "\n",
        "# Check for NaN values in 'Malware Indicators'\n",
        "if 'Malware Indicators' in df.columns:\n",
        "    nan_count = df['Malware Indicators'].isna().sum()\n",
        "    print(f\"Number of NaN (missing) values in 'Malware Indicators': {nan_count}\")\n",
        "else:\n",
        "    print(\"Column 'Malware Indicators' not found. Available columns are:\")\n",
        "    print(df.columns)\n"
      ],
      "metadata": {
        "id": "InYKd5Fsn4kR",
        "outputId": "cba1cd79-4e6b-4f1b-c27e-8fea82652912",
        "colab": {
          "base_uri": "https://localhost:8080/"
        }
      },
      "execution_count": 24,
      "outputs": [
        {
          "output_type": "stream",
          "name": "stdout",
          "text": [
            "Number of NaN (missing) values in 'Malware Indicators': 20000\n"
          ]
        }
      ]
    },
    {
      "cell_type": "code",
      "source": [
        "import pandas as pd\n",
        "\n",
        "# Load the CSV\n",
        "df = pd.read_csv('cybersecurity_attacks.csv')\n",
        "\n",
        "# Check for NaN values in 'Alerts/Warnings'\n",
        "if 'Alerts/Warnings' in df.columns:\n",
        "    nan_count = df['Alerts/Warnings'].isna().sum()\n",
        "    print(f\"Number of NaN (missing) values in 'Alerts/Warnings': {nan_count}\")\n",
        "else:\n",
        "    print(\"Column 'Alerts/Warnings' not found. Available columns are:\")\n",
        "    print(df.columns)\n"
      ],
      "metadata": {
        "id": "NQssTWUhoJs8",
        "outputId": "70c8dce7-04ca-4f95-87a5-d24ab534c197",
        "colab": {
          "base_uri": "https://localhost:8080/"
        }
      },
      "execution_count": 25,
      "outputs": [
        {
          "output_type": "stream",
          "name": "stdout",
          "text": [
            "Number of NaN (missing) values in 'Alerts/Warnings': 20067\n"
          ]
        }
      ]
    },
    {
      "cell_type": "code",
      "source": [
        "import pandas as pd\n",
        "\n",
        "# Load the CSV\n",
        "df = pd.read_csv('cybersecurity_attacks.csv')\n",
        "\n",
        "# Check if 'Alerts/Warnings' column exists\n",
        "if 'Alerts/Warnings' in df.columns:\n",
        "    # Drop NaNs and convert to string in case of mixed types\n",
        "    alerts_series = df['Alerts/Warnings'].dropna().astype(str)\n",
        "\n",
        "    # Split on common separators: comma, semicolon, or pipe\n",
        "    split_alerts = alerts_series.str.split(r'[;,|]', expand=False)\n",
        "\n",
        "    # Flatten and clean\n",
        "    flattened_alerts = pd.Series([alert.strip() for sublist in split_alerts for alert in sublist])\n",
        "\n",
        "    # Count unique alert types\n",
        "    alert_counts = flattened_alerts.value_counts()\n",
        "\n",
        "    print(\"Types of threat Alerts/Warnings and their counts:\")\n",
        "    for alert, count in alert_counts.items():\n",
        "        print(f\"- {alert}: {count}\")\n",
        "else:\n",
        "    print(\"Column 'Alerts/Warnings' not found. Available columns:\")\n",
        "    print(df.columns)\n"
      ],
      "metadata": {
        "id": "LvMeFqVxoS8N",
        "outputId": "36f337c7-b190-48ce-b743-bdbdf5c765b8",
        "colab": {
          "base_uri": "https://localhost:8080/"
        }
      },
      "execution_count": 26,
      "outputs": [
        {
          "output_type": "stream",
          "name": "stdout",
          "text": [
            "Types of threat Alerts/Warnings and their counts:\n",
            "- Alert Triggered: 19933\n"
          ]
        }
      ]
    },
    {
      "cell_type": "code",
      "source": [
        "import pandas as pd\n",
        "\n",
        "# Load CSV\n",
        "df = pd.read_csv('cybersecurity_attacks.csv')\n",
        "\n",
        "# Handle column existence\n",
        "if 'Alerts/Warnings' in df.columns:\n",
        "    # Replace NaNs with a placeholder like \"No Alert Triggered\"\n",
        "    alerts_filled = df['Alerts/Warnings'].fillna('No Alert Triggered').astype(str)\n",
        "\n",
        "    # Split multiple alerts in one cell (comma, semicolon, or pipe)\n",
        "    split_alerts = alerts_filled.str.split(r'[;,|]', expand=False)\n",
        "\n",
        "    # Flatten and strip whitespace\n",
        "    all_alerts = pd.Series([alert.strip() for sublist in split_alerts for alert in sublist])\n",
        "\n",
        "    # Count occurrences\n",
        "    alert_counts = all_alerts.value_counts()\n",
        "\n",
        "    print(\"Types of threat Alerts/Warnings and their counts (including no alert):\")\n",
        "    for alert, count in alert_counts.items():\n",
        "        print(f\"- {alert}: {count}\")\n",
        "else:\n",
        "    print(\"Column 'Alerts/Warnings' not found. Available columns:\")\n",
        "    print(df.columns)"
      ],
      "metadata": {
        "id": "mCcFx8TtosO-",
        "outputId": "05ab90d9-dc00-47c7-da69-6ae556e7f3f8",
        "colab": {
          "base_uri": "https://localhost:8080/"
        }
      },
      "execution_count": 27,
      "outputs": [
        {
          "output_type": "stream",
          "name": "stdout",
          "text": [
            "Types of threat Alerts/Warnings and their counts (including no alert):\n",
            "- No Alert Triggered: 20067\n",
            "- Alert Triggered: 19933\n"
          ]
        }
      ]
    },
    {
      "cell_type": "code",
      "source": [
        "import pandas as pd\n",
        "\n",
        "# Load the CSV\n",
        "df = pd.read_csv('cybersecurity_attacks.csv')\n",
        "\n",
        "# Check if 'Severity Level' column exists\n",
        "if 'Severity Level' in df.columns:\n",
        "    # Replace NaN with a label like 'Not Specified'\n",
        "    severity_filled = df['Severity Level'].fillna('Not Specified').astype(str)\n",
        "\n",
        "    # Count occurrences of each severity level\n",
        "    severity_counts = severity_filled.value_counts()\n",
        "\n",
        "    print(\"Types of Severity Levels and their counts:\")\n",
        "    for level, count in severity_counts.items():\n",
        "        print(f\"- {level}: {count}\")\n",
        "else:\n",
        "    print(\"Column 'Severity Level' not found. Available columns:\")\n",
        "    print(df.columns)"
      ],
      "metadata": {
        "id": "OMR8qdF-o8Yw",
        "outputId": "33ed6e84-63e1-47e7-cf52-8f7d6cf92d9a",
        "colab": {
          "base_uri": "https://localhost:8080/"
        }
      },
      "execution_count": 28,
      "outputs": [
        {
          "output_type": "stream",
          "name": "stdout",
          "text": [
            "Types of Severity Levels and their counts:\n",
            "- Medium: 13435\n",
            "- High: 13382\n",
            "- Low: 13183\n"
          ]
        }
      ]
    },
    {
      "cell_type": "markdown",
      "source": [
        "Training column: Malware Indicators , Anomaly Scores*,Alerts/Warnings,Attack Type, Severity Level,IDS/IPS Alerts Target couman :Action Taken, Other need to drop"
      ],
      "metadata": {
        "id": "yiJr0QtKpBAy"
      }
    },
    {
      "cell_type": "code",
      "source": [
        "import pandas as pd\n",
        "\n",
        "# Load the CSV\n",
        "df = pd.read_csv('cybersecurity_attacks.csv')\n",
        "\n",
        "# Check if 'IDS/IPS Alerts' column exists\n",
        "if 'IDS/IPS Alerts' in df.columns:\n",
        "    # Replace NaN with 'No Alert' or any other appropriate label\n",
        "    alerts_filled = df['IDS/IPS Alerts'].fillna('No Alert').astype(str)\n",
        "\n",
        "    # Split by common separators (comma, semicolon, pipe) and clean whitespace\n",
        "    split_alerts = alerts_filled.str.split(r'[;,|]', expand=False)\n",
        "    flattened_alerts = pd.Series([alert.strip() for sublist in split_alerts for alert in sublist])\n",
        "\n",
        "    # Count occurrences of each type of IDS/IPS Alert\n",
        "    alert_counts = flattened_alerts.value_counts()\n",
        "\n",
        "    print(\"Types of IDS/IPS Alerts and their counts (including 'No Alert'):\")\n",
        "    for alert, count in alert_counts.items():\n",
        "        print(f\"- {alert}: {count}\")\n",
        "else:\n",
        "    print(\"Column 'IDS/IPS Alerts' not found. Available columns:\")\n",
        "    print(df.columns)"
      ],
      "metadata": {
        "id": "AfvOnWcQpWl2",
        "outputId": "ca1d137d-13ec-4ff7-b633-d4f68f1022e3",
        "colab": {
          "base_uri": "https://localhost:8080/"
        }
      },
      "execution_count": 29,
      "outputs": [
        {
          "output_type": "stream",
          "name": "stdout",
          "text": [
            "Types of IDS/IPS Alerts and their counts (including 'No Alert'):\n",
            "- No Alert: 20050\n",
            "- Alert Data: 19950\n"
          ]
        }
      ]
    },
    {
      "cell_type": "code",
      "source": [
        "import pandas as pd\n",
        "\n",
        "# Load the CSV file\n",
        "df = pd.read_csv('cybersecurity_attacks.csv')\n",
        "\n",
        "# Specify the columns to keep\n",
        "columns_to_keep = ['Malware Indicators', 'Anomaly Scores', 'Alerts/Warnings', 'Attack Type', 'Severity Level', 'IDS/IPS Alerts', 'Action Taken']\n",
        "\n",
        "# Create a new DataFrame with the selected columns\n",
        "new_df = df[columns_to_keep]\n",
        "\n",
        "# Optionally, drop rows where any of these columns have NaN values (if desired)\n",
        "# new_df = new_df.dropna()\n",
        "\n",
        "# Save the new DataFrame to a new CSV file\n",
        "new_df.to_csv('dataset.csv', index=False)\n",
        "\n",
        "print(\"New dataset created and saved as 'dataset.csv'.\")\n"
      ],
      "metadata": {
        "id": "UJElIPXyrMux",
        "outputId": "213fd2fa-380a-4c35-a113-3f4dd0339f36",
        "colab": {
          "base_uri": "https://localhost:8080/"
        }
      },
      "execution_count": 31,
      "outputs": [
        {
          "output_type": "stream",
          "name": "stdout",
          "text": [
            "New dataset created and saved as 'dataset.csv'.\n"
          ]
        }
      ]
    },
    {
      "cell_type": "code",
      "source": [
        "import pandas as pd\n",
        "\n",
        "# Load the newly created dataset (dataset.csv)\n",
        "new_df = pd.read_csv('dataset.csv')\n",
        "\n",
        "# Check the type of the dataset\n",
        "print(\"Type of the dataset:\")\n",
        "print(type(new_df))\n",
        "\n",
        "# Get information about the dataset (data types, non-null counts, etc.)\n",
        "print(\"\\nDataset info:\")\n",
        "new_df.info()\n",
        "\n",
        "# Display the first few rows to get a look at the actual data\n",
        "print(\"\\nFirst few rows of the dataset:\")\n",
        "print(new_df.head())"
      ],
      "metadata": {
        "id": "Fo2YyvUHsZQI",
        "outputId": "14caa711-5c6d-4934-c478-7848c73e1ef9",
        "colab": {
          "base_uri": "https://localhost:8080/"
        }
      },
      "execution_count": 34,
      "outputs": [
        {
          "output_type": "stream",
          "name": "stdout",
          "text": [
            "Type of the dataset:\n",
            "<class 'pandas.core.frame.DataFrame'>\n",
            "\n",
            "Dataset info:\n",
            "<class 'pandas.core.frame.DataFrame'>\n",
            "RangeIndex: 40000 entries, 0 to 39999\n",
            "Data columns (total 7 columns):\n",
            " #   Column              Non-Null Count  Dtype  \n",
            "---  ------              --------------  -----  \n",
            " 0   Malware Indicators  20000 non-null  object \n",
            " 1   Anomaly Scores      40000 non-null  float64\n",
            " 2   Alerts/Warnings     19933 non-null  object \n",
            " 3   Attack Type         40000 non-null  object \n",
            " 4   Severity Level      40000 non-null  object \n",
            " 5   IDS/IPS Alerts      19950 non-null  object \n",
            " 6   Action Taken        40000 non-null  object \n",
            "dtypes: float64(1), object(6)\n",
            "memory usage: 2.1+ MB\n",
            "\n",
            "First few rows of the dataset:\n",
            "  Malware Indicators  Anomaly Scores  Alerts/Warnings Attack Type  \\\n",
            "0       IoC Detected           28.67              NaN     Malware   \n",
            "1       IoC Detected           51.50              NaN     Malware   \n",
            "2       IoC Detected           87.42  Alert Triggered        DDoS   \n",
            "3                NaN           15.79  Alert Triggered     Malware   \n",
            "4                NaN            0.52  Alert Triggered        DDoS   \n",
            "\n",
            "  Severity Level IDS/IPS Alerts Action Taken  \n",
            "0            Low            NaN       Logged  \n",
            "1            Low            NaN      Blocked  \n",
            "2            Low     Alert Data      Ignored  \n",
            "3         Medium     Alert Data      Blocked  \n",
            "4            Low     Alert Data      Blocked  \n"
          ]
        }
      ]
    },
    {
      "cell_type": "markdown",
      "source": [
        "Malware Indicators"
      ],
      "metadata": {
        "id": "2EoZ6L8Ztl-W"
      }
    },
    {
      "cell_type": "code",
      "source": [
        "import pandas as pd\n",
        "\n",
        "# Load the dataset\n",
        "new_df = pd.read_csv('dataset.csv')\n",
        "\n",
        "# Create a new binary column for 'Malware Indicators'\n",
        "new_df['Malware Indicator (IoC Detected)'] = new_df['Malware Indicators'].apply(lambda x: 1 if 'IoC Detected' in str(x) else 0)\n",
        "\n",
        "# Display the first few rows to check the new column\n",
        "print(new_df[['Malware Indicators', 'Malware Indicator (IoC Detected)']].head())"
      ],
      "metadata": {
        "id": "ypxQXPOLtfhY",
        "outputId": "7696d273-163b-494c-a84b-c02852c3a3f9",
        "colab": {
          "base_uri": "https://localhost:8080/"
        }
      },
      "execution_count": 35,
      "outputs": [
        {
          "output_type": "stream",
          "name": "stdout",
          "text": [
            "  Malware Indicators  Malware Indicator (IoC Detected)\n",
            "0       IoC Detected                                 1\n",
            "1       IoC Detected                                 1\n",
            "2       IoC Detected                                 1\n",
            "3                NaN                                 0\n",
            "4                NaN                                 0\n"
          ]
        }
      ]
    },
    {
      "cell_type": "markdown",
      "source": [
        "Alerts/Warnings"
      ],
      "metadata": {
        "id": "q1cv1KgFt4MR"
      }
    },
    {
      "cell_type": "code",
      "source": [
        "import pandas as pd\n",
        "\n",
        "# Load the dataset\n",
        "new_df = pd.read_csv('dataset.csv')\n",
        "\n",
        "# Create a new binary column for 'Alerts/Warnings'\n",
        "new_df['Alert Triggered (Binary)'] = new_df['Alerts/Warnings'].apply(lambda x: 1 if 'Alert Triggered' in str(x) else 0)\n",
        "\n",
        "# Fill NaN values with 'Alert Triggered' to ensure 1 is assigned for those rows\n",
        "new_df['Alert Triggered (Binary)'].fillna(1, inplace=True)\n",
        "\n",
        "# Display the first few rows to check the new column\n",
        "print(new_df[['Alerts/Warnings', 'Alert Triggered (Binary)']].head())"
      ],
      "metadata": {
        "id": "n4RTC0i6tmrm",
        "outputId": "c09e0234-61d3-4cef-d57d-1390762edee3",
        "colab": {
          "base_uri": "https://localhost:8080/"
        }
      },
      "execution_count": 36,
      "outputs": [
        {
          "output_type": "stream",
          "name": "stdout",
          "text": [
            "   Alerts/Warnings  Alert Triggered (Binary)\n",
            "0              NaN                         0\n",
            "1              NaN                         0\n",
            "2  Alert Triggered                         1\n",
            "3  Alert Triggered                         1\n",
            "4  Alert Triggered                         1\n"
          ]
        },
        {
          "output_type": "stream",
          "name": "stderr",
          "text": [
            "<ipython-input-36-69f43a88b56b>:10: FutureWarning: A value is trying to be set on a copy of a DataFrame or Series through chained assignment using an inplace method.\n",
            "The behavior will change in pandas 3.0. This inplace method will never work because the intermediate object on which we are setting values always behaves as a copy.\n",
            "\n",
            "For example, when doing 'df[col].method(value, inplace=True)', try using 'df.method({col: value}, inplace=True)' or df[col] = df[col].method(value) instead, to perform the operation inplace on the original object.\n",
            "\n",
            "\n",
            "  new_df['Alert Triggered (Binary)'].fillna(1, inplace=True)\n"
          ]
        }
      ]
    },
    {
      "cell_type": "code",
      "source": [
        "import pandas as pd\n",
        "\n",
        "# Load the dataset\n",
        "new_df = pd.read_csv('dataset.csv')\n",
        "\n",
        "# Get the unique values in the 'Attack Type' column\n",
        "unique_attack_types = new_df['Attack Type'].unique()\n",
        "\n",
        "# Display the unique attack types\n",
        "print(\"Unique Attack Types:\")\n",
        "print(unique_attack_types)\n",
        "\n",
        "# Count occurrences of each attack type\n",
        "attack_type_counts = new_df['Attack Type'].value_counts()\n",
        "\n",
        "# Show the counts of each attack type\n",
        "print(\"\\nAttack Type Counts:\")\n",
        "print(attack_type_counts)\n"
      ],
      "metadata": {
        "id": "odZKfvSft5Th",
        "outputId": "a2c3fa20-5408-4941-902e-d8b8e0734714",
        "colab": {
          "base_uri": "https://localhost:8080/"
        }
      },
      "execution_count": 38,
      "outputs": [
        {
          "output_type": "stream",
          "name": "stdout",
          "text": [
            "Unique Attack Types:\n",
            "['Malware' 'DDoS' 'Intrusion']\n",
            "\n",
            "Attack Type Counts:\n",
            "Attack Type\n",
            "DDoS         13428\n",
            "Malware      13307\n",
            "Intrusion    13265\n",
            "Name: count, dtype: int64\n"
          ]
        }
      ]
    },
    {
      "cell_type": "code",
      "source": [
        "import pandas as pd\n",
        "\n",
        "# Load the dataset\n",
        "new_df = pd.read_csv('dataset.csv')\n",
        "\n",
        "# Function to categorize attack types as 1 (DDoS, Malware, Intrusion) or 0 (others)\n",
        "def categorize_attack_type_binary(attack_type):\n",
        "    if any(keyword in str(attack_type) for keyword in ['DDoS', 'Malware', 'Intrusion']):\n",
        "        return 1\n",
        "    else:\n",
        "        return 0\n",
        "\n",
        "# Create the new column based on the categorization function\n",
        "new_df['Attack Type Binary'] = new_df['Attack Type'].apply(categorize_attack_type_binary)\n",
        "\n",
        "# Display the result\n",
        "print(new_df[['Attack Type', 'Attack Type Binary']].head())\n"
      ],
      "metadata": {
        "id": "qrbKIXBMwNVu",
        "outputId": "b609a273-1f5b-46a0-cdcd-cfd3da10e948",
        "colab": {
          "base_uri": "https://localhost:8080/"
        }
      },
      "execution_count": 39,
      "outputs": [
        {
          "output_type": "stream",
          "name": "stdout",
          "text": [
            "  Attack Type  Attack Type Binary\n",
            "0     Malware                   1\n",
            "1     Malware                   1\n",
            "2        DDoS                   1\n",
            "3     Malware                   1\n",
            "4        DDoS                   1\n"
          ]
        }
      ]
    },
    {
      "cell_type": "code",
      "source": [
        "import pandas as pd\n",
        "\n",
        "# Load the dataset\n",
        "new_df = pd.read_csv('dataset.csv')\n",
        "\n",
        "# Function to categorize severity levels as 1 (High, Medium, Critical) or 0 (others)\n",
        "def categorize_severity_level_binary(severity_level):\n",
        "    if any(keyword in str(severity_level) for keyword in ['High', 'Medium', 'Critical']):\n",
        "        return 1\n",
        "    else:\n",
        "        return 0\n",
        "\n",
        "# Create the new column based on the categorization function\n",
        "new_df['Severity Level Binary'] = new_df['Severity Level'].apply(categorize_severity_level_binary)\n",
        "\n",
        "# Display the result\n",
        "print(new_df[['Severity Level', 'Severity Level Binary']].head())"
      ],
      "metadata": {
        "id": "7NmmqGsBwmO-",
        "outputId": "43a67298-390f-4efc-8bcb-6621d28613dc",
        "colab": {
          "base_uri": "https://localhost:8080/"
        }
      },
      "execution_count": 40,
      "outputs": [
        {
          "output_type": "stream",
          "name": "stdout",
          "text": [
            "  Severity Level  Severity Level Binary\n",
            "0            Low                      0\n",
            "1            Low                      0\n",
            "2            Low                      0\n",
            "3         Medium                      1\n",
            "4            Low                      0\n"
          ]
        }
      ]
    },
    {
      "cell_type": "code",
      "source": [
        "import pandas as pd\n",
        "\n",
        "# Load the dataset\n",
        "new_df = pd.read_csv('dataset.csv')\n",
        "\n",
        "# Function to categorize IDS/IPS Alerts as 1 (related alerts) or 0 (others, NaN)\n",
        "def categorize_ids_ips_alerts(ids_ips_alert):\n",
        "    if pd.notnull(ids_ips_alert) and 'alert' in str(ids_ips_alert).lower():\n",
        "        return 1\n",
        "    else:\n",
        "        return 0\n",
        "\n",
        "# Create the new column based on the categorization function\n",
        "new_df['IDS/IPS Alerts Binary'] = new_df['IDS/IPS Alerts'].apply(categorize_ids_ips_alerts)\n",
        "\n",
        "# Display the result\n",
        "print(new_df[['IDS/IPS Alerts', 'IDS/IPS Alerts Binary']].head())"
      ],
      "metadata": {
        "id": "zmU0IHO1xHsv",
        "outputId": "6be7560d-b4ee-4dfb-c8d6-a63f20a95ee7",
        "colab": {
          "base_uri": "https://localhost:8080/"
        }
      },
      "execution_count": 41,
      "outputs": [
        {
          "output_type": "stream",
          "name": "stdout",
          "text": [
            "  IDS/IPS Alerts  IDS/IPS Alerts Binary\n",
            "0            NaN                      0\n",
            "1            NaN                      0\n",
            "2     Alert Data                      1\n",
            "3     Alert Data                      1\n",
            "4     Alert Data                      1\n"
          ]
        }
      ]
    },
    {
      "cell_type": "code",
      "source": [
        "import pandas as pd\n",
        "\n",
        "# Load the dataset\n",
        "new_df = pd.read_csv('dataset.csv')\n",
        "\n",
        "# Function to categorize Action Taken as 1 (action taken) or 0 (no action, NaN)\n",
        "def categorize_action_taken(action_taken):\n",
        "    if pd.notnull(action_taken) and str(action_taken).strip() != \"\":\n",
        "        return 1\n",
        "    else:\n",
        "        return 0\n",
        "\n",
        "# Create the new column based on the categorization function\n",
        "new_df['Action Taken Binary'] = new_df['Action Taken'].apply(categorize_action_taken)\n",
        "\n",
        "# Display the result\n",
        "print(new_df[['Action Taken', 'Action Taken Binary']].head())\n"
      ],
      "metadata": {
        "id": "OyfWXo7rxRgB",
        "outputId": "3992dc89-fd84-450b-868a-f4cec88864fe",
        "colab": {
          "base_uri": "https://localhost:8080/"
        }
      },
      "execution_count": 42,
      "outputs": [
        {
          "output_type": "stream",
          "name": "stdout",
          "text": [
            "  Action Taken  Action Taken Binary\n",
            "0       Logged                    1\n",
            "1      Blocked                    1\n",
            "2      Ignored                    1\n",
            "3      Blocked                    1\n",
            "4      Blocked                    1\n"
          ]
        }
      ]
    }
  ]
}